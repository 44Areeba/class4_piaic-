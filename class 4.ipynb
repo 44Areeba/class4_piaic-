{
 "cells": [
  {
   "cell_type": "code",
   "execution_count": 7,
   "id": "07fae896",
   "metadata": {},
   "outputs": [
    {
     "name": "stdout",
     "output_type": "stream",
     "text": [
      "is raining outside yes/no yes\n",
      "class cancel\n"
     ]
    }
   ],
   "source": [
    "## if statement ##\n",
    "\n",
    "status= None\n",
    "\n",
    "isRaining= input(\"is raining outside yes/no \")\n",
    "if(isRaining== 'yes'):\n",
    "    status == 'cancel'\n",
    "    print(\"class cancel\")\n",
    "        \n",
    "else:\n",
    "    \n",
    "    status =\"ontime \"\n",
    "    print (f\"class {status} \")    \n",
    "\n"
   ]
  },
  {
   "cell_type": "code",
   "execution_count": null,
   "id": "c40e24be",
   "metadata": {},
   "outputs": [],
   "source": []
  },
  {
   "cell_type": "code",
   "execution_count": 1,
   "id": "8b906e70",
   "metadata": {},
   "outputs": [
    {
     "name": "stdout",
     "output_type": "stream",
     "text": [
      "Enter your marks 88\n",
      "you are pass\n"
     ]
    }
   ],
   "source": [
    "\n",
    "marks=int(input(\"Enter your marks \"))\n",
    "if marks >=60:\n",
    "    result= \"pass\"\n",
    "    print(f\"you are {result}\")\n",
    "else:\n",
    "    result= \"fail\"\n",
    "    print(f\"you are {result}\")"
   ]
  },
  {
   "cell_type": "code",
   "execution_count": 4,
   "id": "fa872111",
   "metadata": {},
   "outputs": [],
   "source": [
    "user_id=\"areeba\"\n",
    "password= \"areeba123\"\n"
   ]
  },
  {
   "cell_type": "code",
   "execution_count": 8,
   "id": "4ca0309e",
   "metadata": {},
   "outputs": [
    {
     "name": "stdout",
     "output_type": "stream",
     "text": [
      "Enter your idareeba\n",
      "Enter your password123\n"
     ]
    }
   ],
   "source": [
    "user_id=\"areeba\"\n",
    "password= \"areeba123\"\n",
    "\n",
    "\n",
    "login_status= None\n",
    "uid= input(\"Enter your id\")\n",
    "if user_id== uid:\n",
    "    pwd=input(\"Enter your password\")\n",
    "    if password==pwd:\n",
    "        login_status= \"You are welcome \"\n",
    "    else:\n",
    "        login_status= \"Not allowed \"\n",
    "else:\n",
    "    loginstatus=\"You are not allowed \"\n",
    "    print(loginstatus)\n",
    "    "
   ]
  },
  {
   "cell_type": "code",
   "execution_count": 2,
   "id": "b36de584",
   "metadata": {},
   "outputs": [],
   "source": [
    "user_id = \"areeba\"\n",
    "password = \"abcd1234\""
   ]
  },
  {
   "cell_type": "code",
   "execution_count": 3,
   "id": "2d8d3405",
   "metadata": {},
   "outputs": [
    {
     "name": "stdout",
     "output_type": "stream",
     "text": [
      "enter your idareeba\n",
      "enter your passwordabcd1234\n",
      "You are welcome\n"
     ]
    }
   ],
   "source": [
    "login_status=None\n",
    "\n",
    "uid = input(\"enter your id\") \n",
    "if user_id==uid:\n",
    "    pwd = input(\"enter your password\")\n",
    "    \n",
    "    if password==pwd:\n",
    "        login_status = \"You are welcome\"\n",
    "    else:\n",
    "        login_status = \"Not Allowed\"\n",
    "else:\n",
    "    login_status = \"Not Allowed\"\n",
    "print(login_status)"
   ]
  },
  {
   "cell_type": "code",
   "execution_count": 25,
   "id": "ec36a01c",
   "metadata": {},
   "outputs": [
    {
     "name": "stdout",
     "output_type": "stream",
     "text": [
      "Enter brandj.\n",
      "Enter color blue\n",
      "Enter your shirt size m\n",
      "Enter your price 800\n"
     ]
    }
   ],
   "source": [
    "cart== None\n",
    "brand=input(\"Enter brand\")\n",
    "if brand==\"j.\":\n",
    "    color=input(\"Enter color \")\n",
    "    if color==\"blue\":\n",
    "        size=input(\"Enter your shirt size \")\n",
    "        if size==\"m\":\n",
    "            price=int(input(\"Enter your price \"))\n",
    "            if price <1200:\n",
    "                cart=\"You have bought red j. medium size shirt\"\n",
    "            else:\n",
    "                print(\"brand not available \")\n",
    "                cart= \"Nothing \"\n",
    "        else:\n",
    "            \n",
    "            print(\"color not available \")\n",
    "            cart = \"Nothing\"\n",
    "    else:\n",
    "        \n",
    "        print(\"size not available \")\n",
    "        cart=\"Nothing\"\n",
    "else:\n",
    "    print(\"out of budget \")\n",
    "    cart= \"Nothing\"\n",
    "    print(f\"you have bought {cart}\")   \n",
    "                \n",
    "                \n",
    "    \n"
   ]
  },
  {
   "cell_type": "code",
   "execution_count": 36,
   "id": "3df5125e",
   "metadata": {},
   "outputs": [
    {
     "name": "stdout",
     "output_type": "stream",
     "text": [
      "Enter your required brandpolo\n",
      "Enter colorred\n",
      "Enter your shirt sizem\n",
      "Enter your price1000\n",
      "you have bought Red Polo Medium Size Shirt \n"
     ]
    }
   ],
   "source": [
    "cart = None\n",
    "brand = input(\"Enter your required brand\").lower()\n",
    "if brand == \"polo\":\n",
    "    color = input(\"Enter color\").lower()\n",
    "    if color == \"red\":\n",
    "        size = input(\"Enter your shirt size\").upper()\n",
    "        if size == \"M\":\n",
    "            price = int(input(\"Enter your price \"))\n",
    "            if price <=1000:\n",
    "                cart = \"Red Polo Medium Size Shirt\"\n",
    "            else:\n",
    "                print(\"Out of budget\")\n",
    "                cart = 'Nothing'\n",
    "        else:\n",
    "            print(\"size not available\")\n",
    "            cart = 'Nothing'\n",
    "    else:\n",
    "        print(\"Color not available\")\n",
    "        cart = 'Nothing'\n",
    "else:\n",
    "    print(\"Brand not available\")\n",
    "    cart = 'Nothing'\n",
    "print(f\"you have bought {cart} \")    "
   ]
  },
  {
   "cell_type": "code",
   "execution_count": 45,
   "id": "5ebfea9e",
   "metadata": {},
   "outputs": [
    {
     "name": "stdout",
     "output_type": "stream",
     "text": [
      "Enter your brand j.\n",
      "Enter your color red\n",
      "Enter your size medium\n",
      "Enter your price 1400\n",
      "you have bought j. red shirt\n"
     ]
    }
   ],
   "source": [
    "cart=None\n",
    "brand=input(\"Enter your brand \")\n",
    "if brand== \"j.\":\n",
    "    color=input(\"Enter your color \")\n",
    "    if color== \"red\":\n",
    "        size=input(\"Enter your size \")\n",
    "        if size==\"medium\":\n",
    "            price=int(input(\"Enter your price \"))\n",
    "            if price <=1500:\n",
    "                print(\"you have bought j. red shirt\")\n",
    "            else:\n",
    "                print(\"out of budget\")\n",
    "                cart='Nothing'\n",
    "        else:\n",
    "            print(\"size not available \")\n",
    "            cart='Nothing'\n",
    "    else:\n",
    "        print(\"color not available\")\n",
    "        cart='Nothing'\n",
    "else:\n",
    "    print(\"brand not available \")\n",
    "    cart='Nothing'\n",
    "    print(f\"you have bought {cart}\")\n",
    "    \n"
   ]
  },
  {
   "cell_type": "code",
   "execution_count": 41,
   "id": "be89e5de",
   "metadata": {},
   "outputs": [
    {
     "name": "stdout",
     "output_type": "stream",
     "text": [
      "Enter your required brand j.\n",
      "Enter your color red\n",
      "Enter your size large\n",
      "Enter your price 1400\n",
      "you have bought Nothing\n"
     ]
    }
   ],
   "source": [
    "brand=input(\"Enter your required brand \")\n",
    "color=input(\"Enter your color \")\n",
    "size=input(\"Enter your size \")\n",
    "price=int(input(\"Enter your price \"))\n",
    "\n",
    "if ((brand==\"j.\" and color==\"red\" and size==\"m\" and price<=1500)):\n",
    "    print(\"you have bought red j. shirt \")\n",
    "else:\n",
    "    cart=\"Nothing\"\n",
    "    print(f\"you have bought {cart}\")"
   ]
  },
  {
   "cell_type": "code",
   "execution_count": 47,
   "id": "bd8b97bf",
   "metadata": {},
   "outputs": [
    {
     "name": "stdout",
     "output_type": "stream",
     "text": [
      "Enter your html marks 76\n",
      "Enterr your css marks 66\n",
      "Enter your javscript 75\n",
      "Enter your python marks 88\n",
      "Enterr your  c marks 82\n",
      " \n",
      "     Result Card\n",
      "     ____________\n",
      "     Marks_Obtain: 387\n",
      "     Percentage  : 77.4\n",
      "     Grade       :  B\n",
      "       \n",
      "       _____________\n"
     ]
    }
   ],
   "source": [
    "html=int(input(\"Enter your html marks \"))\n",
    "css= int(input(\"Enterr your css marks \"))\n",
    "javascript=int(input(\"Enter your javscript \"))\n",
    "python=int(input(\"Enter your python marks \"))\n",
    "c= int(input(\"Enterr your  c marks \"))\n",
    "\n",
    "marks_obt =html+css+javascript+python+c\n",
    "perc= marks_obt/500*100\n",
    "\n",
    "if perc >=90:\n",
    "    grade=\"A+\"\n",
    "elif perc >=80:\n",
    "    grade= \"A \"\n",
    "elif perc>=70:\n",
    "    grade=\"B\"\n",
    "    \n",
    "elif perc>=60:\n",
    "    grade= \"C\"\n",
    "elif perc >=50:\n",
    "    grade=\"D\"\n",
    "    \n",
    "else:\n",
    "    grade=\"U \"\n",
    "    \n",
    "print(f\"\"\" \n",
    "     Result Card\n",
    "     ____________\n",
    "     Marks_Obtain: {marks_obt}\n",
    "     Percentage  : {perc}\n",
    "     Grade       :  {grade}\n",
    "       \n",
    "       _____________\"\"\")    "
   ]
  },
  {
   "cell_type": "code",
   "execution_count": null,
   "id": "92bae827",
   "metadata": {},
   "outputs": [],
   "source": []
  },
  {
   "cell_type": "code",
   "execution_count": null,
   "id": "ef5542ff",
   "metadata": {},
   "outputs": [],
   "source": []
  }
 ],
 "metadata": {
  "kernelspec": {
   "display_name": "Python 3",
   "language": "python",
   "name": "python3"
  },
  "language_info": {
   "codemirror_mode": {
    "name": "ipython",
    "version": 3
   },
   "file_extension": ".py",
   "mimetype": "text/x-python",
   "name": "python",
   "nbconvert_exporter": "python",
   "pygments_lexer": "ipython3",
   "version": "3.8.8"
  }
 },
 "nbformat": 4,
 "nbformat_minor": 5
}
